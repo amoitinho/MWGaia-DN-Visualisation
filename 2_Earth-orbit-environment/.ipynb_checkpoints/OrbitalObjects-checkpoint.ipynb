{
 "cells": [
  {
   "cell_type": "markdown",
   "metadata": {},
   "source": [
    "# ETS lab Tutorial 4: Orbital objects - I\n",
    "\n",
    "\n",
    "## Setup\n",
    "\n",
    "\n",
    "Here we import the libraries needed for this activity\n",
    "\n",
    "While you should by now be familiar with the **numpy** (array manipulation) and **matplotlib/mpl_toolkits** (ploting), the other imports are less known:\n",
    "\n",
    "The **ephem** library is used here for dealing with Two/Three Line Elements (TLEs) of orbital objects and computing their positions at different times.\n",
    "The term \"ephem\" is short for the word ephemeris, which is the traditional term for a table giving the position of a planet, asteroid, or comet for a series of dates.\n",
    "\n",
    "From the Astrophysics Source Code Library:  http://ascl.net/1112.014\n",
    "_PyEphem provides scientific-grade astronomical computations for the Python programming language. Given a date and location on the Earth's surface, it can compute the positions of the Sun and Moon, of the planets and their moons, and of any asteroids, comets, or earth satellites whose orbital elements the user can provide. Additional functions are provided to compute the angular separation between two objects in the sky, to determine the constellation in which an object lies, and to find the times at which an object rises, transits, and sets on a particular day.\n",
    "The numerical routines that lie behind PyEphem are those from the XEphem astronomy application (ascl:1112.013), whose author, Elwood Downey, generously gave permission for us to use them as the basis for PyEphem._\n",
    "\n",
    "The **datetime** library is used for manipulating dates and times. We'll use it for setting times for orbit propagation.\n",
    "\n",
    "Finally, the **csv** library handles CSV (Comma Separated Values) files and is used here for writing an output CSV file with results of orbit computations.\n",
    "\n",
    "If you get errors check first if you haven't installed some of these libraries. "
   ]
  },
  {
   "cell_type": "code",
   "execution_count": 1,
   "metadata": {},
   "outputs": [],
   "source": [
    "import numpy as np\n",
    "import matplotlib.pyplot as plt\n",
    "from mpl_toolkits.mplot3d import axes3d         #for 3D plots as the name suggests\n",
    "import ephem\n",
    "import datetime\n",
    "import csv"
   ]
  },
  {
   "cell_type": "markdown",
   "metadata": {},
   "source": [
    "### A quick overview of datetime \n",
    "More in https://docs.python.org/3/library/datetime.html"
   ]
  },
  {
   "cell_type": "code",
   "execution_count": 2,
   "metadata": {},
   "outputs": [],
   "source": [
    "# A quick overview of datetime \n",
    "mydate = datetime.datetime.today()"
   ]
  },
  {
   "cell_type": "code",
   "execution_count": 3,
   "metadata": {},
   "outputs": [
    {
     "data": {
      "text/plain": [
       "datetime.datetime(2022, 11, 8, 10, 58, 47, 208474)"
      ]
     },
     "execution_count": 3,
     "metadata": {},
     "output_type": "execute_result"
    }
   ],
   "source": [
    "# Lets inspect this datetime\n",
    "datetime.datetime.today()"
   ]
  },
  {
   "cell_type": "code",
   "execution_count": 4,
   "metadata": {},
   "outputs": [
    {
     "data": {
      "text/plain": [
       "datetime.datetime(2020, 11, 8, 15, 0)"
      ]
     },
     "execution_count": 4,
     "metadata": {},
     "output_type": "execute_result"
    }
   ],
   "source": [
    "# You can set the date\n",
    "datetime.datetime(2020, 11, 8,15)"
   ]
  },
  {
   "cell_type": "code",
   "execution_count": 5,
   "metadata": {},
   "outputs": [
    {
     "data": {
      "text/plain": [
       "datetime.timedelta(seconds=1200)"
      ]
     },
     "execution_count": 5,
     "metadata": {},
     "output_type": "execute_result"
    }
   ],
   "source": [
    "# The timedelta object provides time intervals. This is handy for adding/subtracting time intervals to dates.\n",
    "#i.e. for creating arrays of times\n",
    "datetime.timedelta(minutes=20)"
   ]
  },
  {
   "cell_type": "code",
   "execution_count": 6,
   "metadata": {
    "scrolled": true
   },
   "outputs": [
    {
     "name": "stdout",
     "output_type": "stream",
     "text": [
      "2022-11-08 10:58:47.199304\n",
      "2022-11-09 06:58:47.199304\n"
     ]
    }
   ],
   "source": [
    "print(mydate)\n",
    "print(mydate + datetime.timedelta(hours=20))"
   ]
  },
  {
   "cell_type": "markdown",
   "metadata": {},
   "source": [
    "### Overview of ephem"
   ]
  },
  {
   "cell_type": "code",
   "execution_count": 7,
   "metadata": {},
   "outputs": [],
   "source": [
    "# Set observer's coordinates and time\n",
    "# This example uses Lisbon\n",
    "obs = ephem.Observer()\n",
    "obs.lat = np.deg2rad(38.717)\n",
    "obs.long = np.deg2rad(9.133)\n",
    "obs.date = datetime.datetime.today()\n",
    "\n",
    "\n",
    "# another example: Bahia\n",
    "#obs.lat = np.deg2rad(-11.409874)\n",
    "#obs.long = np.deg2rad(-41.280857)\n"
   ]
  },
  {
   "cell_type": "code",
   "execution_count": 8,
   "metadata": {},
   "outputs": [
    {
     "data": {
      "text/plain": [
       "44871.95749142566"
      ]
     },
     "execution_count": 8,
     "metadata": {},
     "output_type": "execute_result"
    }
   ],
   "source": [
    "# note that the date is stored in the \"obs\" object in another format\n",
    "# Can you guess what this number means?\n",
    "\n",
    "obs.date\n"
   ]
  },
  {
   "cell_type": "code",
   "execution_count": 9,
   "metadata": {
    "scrolled": true
   },
   "outputs": [
    {
     "name": "stdout",
     "output_type": "stream",
     "text": [
      "Help on Observer in module ephem object:\n",
      "\n",
      "class Observer(_libastro.Observer)\n",
      " |  A location on earth for which positions are to be computed.\n",
      " |  \n",
      " |  An `Observer` instance allows you to compute the positions of\n",
      " |  celestial bodies as seen from a particular latitude and longitude on\n",
      " |  the Earth's surface.  The constructor takes no parameters; instead,\n",
      " |  set its attributes once you have created it.  Defaults:\n",
      " |  \n",
      " |  `date` - the moment the `Observer` is created\n",
      " |  `lat` - zero latitude\n",
      " |  `lon` - zero longitude\n",
      " |  `elevation` - 0 meters above sea level\n",
      " |  `horizon` - 0 degrees\n",
      " |  `epoch` - J2000\n",
      " |  `temp` - 15 degrees Celsius\n",
      " |  `pressure` - 1010 mBar\n",
      " |  \n",
      " |  Method resolution order:\n",
      " |      Observer\n",
      " |      _libastro.Observer\n",
      " |      builtins.object\n",
      " |  \n",
      " |  Methods defined here:\n",
      " |  \n",
      " |  __copy__ = copy(self)\n",
      " |  \n",
      " |  __repr__(self)\n",
      " |      Return a useful textual representation of this Observer.\n",
      " |  \n",
      " |  compute_pressure(self)\n",
      " |      Set the atmospheric pressure for the current elevation.\n",
      " |  \n",
      " |  copy(self)\n",
      " |  \n",
      " |  disallow_circumpolar(self, declination)\n",
      " |      Raise an exception if the given declination is circumpolar.\n",
      " |      \n",
      " |      Raises NeverUpError if an object at the given declination is\n",
      " |      always below this Observer's horizon, or AlwaysUpError if such\n",
      " |      an object would always be above the horizon.\n",
      " |  \n",
      " |  next_antitransit(self, body, start=None)\n",
      " |      Find the next passage of a body across the anti-meridian.\n",
      " |  \n",
      " |  next_pass(self, body, singlepass=True)\n",
      " |      Return the next rising, culmination, and setting of a satellite.\n",
      " |      \n",
      " |      If singlepass is True, return next consecutive set of\n",
      " |      ``(rising, culmination, setting)``.\n",
      " |      \n",
      " |      If singlepass is False, return\n",
      " |      ``(next_rising, next_culmination, next_setting)``.\n",
      " |  \n",
      " |  next_rising(self, body, start=None, use_center=False)\n",
      " |      Search for the given body's next rising, returning its date.\n",
      " |      \n",
      " |      The search starts at the `date` of this `Observer` and is limited to\n",
      " |      the single circuit of the sky, from antitransit to antitransit, that\n",
      " |      the `body` was in the middle of describing at that date and time.\n",
      " |      If the body did not, in fact, cross the horizon in the direction you\n",
      " |      are asking about during that particular circuit, then the search\n",
      " |      must raise a `CircumpolarError` exception like `NeverUpError` or\n",
      " |      `AlwaysUpError` instead of returning a date.\n",
      " |  \n",
      " |  next_setting(self, body, start=None, use_center=False)\n",
      " |      Search for the given body's next setting, returning its date.\n",
      " |      \n",
      " |      The search starts at the `date` of this `Observer` and is limited to\n",
      " |      the single circuit of the sky, from antitransit to antitransit, that\n",
      " |      the `body` was in the middle of describing at that date and time.\n",
      " |      If the body did not, in fact, cross the horizon in the direction you\n",
      " |      are asking about during that particular circuit, then the search\n",
      " |      must raise a `CircumpolarError` exception like `NeverUpError` or\n",
      " |      `AlwaysUpError` instead of returning a date.\n",
      " |  \n",
      " |  next_transit(self, body, start=None)\n",
      " |      Find the next passage of a body across the meridian.\n",
      " |  \n",
      " |  previous_antitransit(self, body, start=None)\n",
      " |      Find the previous passage of a body across the anti-meridian.\n",
      " |  \n",
      " |  previous_rising(self, body, start=None, use_center=False)\n",
      " |      Search for the given body's previous rising, returning its date.\n",
      " |      \n",
      " |      The search starts at the `date` of this `Observer` and is limited to\n",
      " |      the single circuit of the sky, from antitransit to antitransit, that\n",
      " |      the `body` was in the middle of describing at that date and time.\n",
      " |      If the body did not, in fact, cross the horizon in the direction you\n",
      " |      are asking about during that particular circuit, then the search\n",
      " |      must raise a `CircumpolarError` exception like `NeverUpError` or\n",
      " |      `AlwaysUpError` instead of returning a date.\n",
      " |  \n",
      " |  previous_setting(self, body, start=None, use_center=False)\n",
      " |      Search for the given body's previous setting, returning its date.\n",
      " |      \n",
      " |      The search starts at the `date` of this `Observer` and is limited to\n",
      " |      the single circuit of the sky, from antitransit to antitransit, that\n",
      " |      the `body` was in the middle of describing at that date and time.\n",
      " |      If the body did not, in fact, cross the horizon in the direction you\n",
      " |      are asking about during that particular circuit, then the search\n",
      " |      must raise a `CircumpolarError` exception like `NeverUpError` or\n",
      " |      `AlwaysUpError` instead of returning a date.\n",
      " |  \n",
      " |  previous_transit(self, body, start=None)\n",
      " |      Find the previous passage of a body across the meridian.\n",
      " |  \n",
      " |  ----------------------------------------------------------------------\n",
      " |  Data descriptors defined here:\n",
      " |  \n",
      " |  elev\n",
      " |      Elevation above sea level in meters\n",
      " |  \n",
      " |  name\n",
      " |  \n",
      " |  ----------------------------------------------------------------------\n",
      " |  Methods inherited from _libastro.Observer:\n",
      " |  \n",
      " |  __init__(self, /, *args, **kwargs)\n",
      " |      Initialize self.  See help(type(self)) for accurate signature.\n",
      " |  \n",
      " |  radec_of(...)\n",
      " |      compute the right ascension and declination of a point identified by its azimuth and altitude\n",
      " |  \n",
      " |  sidereal_time(...)\n",
      " |      compute the local sidereal time for this location and time\n",
      " |  \n",
      " |  ----------------------------------------------------------------------\n",
      " |  Static methods inherited from _libastro.Observer:\n",
      " |  \n",
      " |  __new__(*args, **kwargs) from builtins.type\n",
      " |      Create and return a new object.  See help(type) for accurate signature.\n",
      " |  \n",
      " |  ----------------------------------------------------------------------\n",
      " |  Data descriptors inherited from _libastro.Observer:\n",
      " |  \n",
      " |  date\n",
      " |      Date\n",
      " |  \n",
      " |  elevation\n",
      " |      Elevation above sea level in meters\n",
      " |  \n",
      " |  epoch\n",
      " |      Precession epoch\n",
      " |  \n",
      " |  horizon\n",
      " |      The angle above (+) or below (-) the horizon at which an object should be considered at the moment of rising or setting as a float giving radians, or a string giving degrees:minutes:seconds\n",
      " |  \n",
      " |  lat\n",
      " |      Latitude north of the Equator as a float giving radians, or a string giving degrees:minutes:seconds\n",
      " |  \n",
      " |  lon\n",
      " |      Longitude east of Greenwich as a float giving radians, or a string giving degrees:minutes:seconds\n",
      " |  \n",
      " |  long\n",
      " |      Longitude east of Greenwich as a float giving radians, or a string giving degrees:minutes:seconds\n",
      " |  \n",
      " |  pressure\n",
      " |      atmospheric pressure in millibar\n",
      " |  \n",
      " |  temp\n",
      " |      alias for 'temperature' attribute\n",
      " |  \n",
      " |  temperature\n",
      " |      atmospheric temperature in degrees Celsius\n",
      "\n"
     ]
    }
   ],
   "source": [
    "# Lets check the \"obs\" object help\n",
    "help(obs)"
   ]
  },
  {
   "cell_type": "code",
   "execution_count": 10,
   "metadata": {},
   "outputs": [],
   "source": [
    "# Load Satellite TLE data.\n",
    "\n",
    "l1 = '0 ISS (ZARYA)'\n",
    "l2 = '1 25544U 98067A   22312.30189397  .00013166 <00000-0  23944-3 0  9992'\n",
    "l3 = '2 25544  51.6452 342.6640 0006517  49.2908  52.8335 15.49849134367539'\n",
    "\n",
    "# This one is old and will give an error when integrating the orbit. Try it.\n",
    "#l1 = 'ISS (ZARYA)'         \n",
    "#l2 = '1 25544U 98067A   20324.17323782  .00001608  00000-0  37253-4 0  9993'\n",
    "#l3 = '2 25544  51.6464 301.5752 0001608  65.2533  28.5305 15.49051503256043'\n",
    "\n",
    "orbitElement = ephem.readtle(l1,l2,l3)\n"
   ]
  },
  {
   "cell_type": "code",
   "execution_count": 11,
   "metadata": {
    "scrolled": true
   },
   "outputs": [
    {
     "name": "stdout",
     "output_type": "stream",
     "text": [
      "['M', '_M', '__class__', '__copy__', '__delattr__', '__dir__', '__doc__', '__eq__', '__format__', '__ge__', '__getattribute__', '__gt__', '__hash__', '__init__', '__init_subclass__', '__le__', '__lt__', '__ne__', '__new__', '__reduce__', '__reduce_ex__', '__repr__', '__setattr__', '__sizeof__', '__str__', '__subclasshook__', '_ap', '_decay', '_drag', '_e', '_epoch', '_inc', '_n', '_orbit', '_raan', 'a_dec', 'a_epoch', 'a_ra', 'alt', 'ap', 'az', 'catalog_number', 'circumpolar', 'compute', 'copy', 'dec', 'decay', 'drag', 'e', 'eclipsed', 'elevation', 'elong', 'epoch', 'g_dec', 'g_ra', 'ha', 'inc', 'mag', 'n', 'name', 'neverup', 'orbit', 'parallactic_angle', 'ra', 'raan', 'radius', 'range', 'range_velocity', 'rise_az', 'rise_time', 'set_az', 'set_time', 'size', 'sublat', 'sublong', 'transit_alt', 'transit_time', 'writedb']\n"
     ]
    }
   ],
   "source": [
    "# Our TLE was stored in the \"orbitElement\" object.\n",
    "# Lets see the attributes orbitElement has by directly inspecting the object.\n",
    "attributes=dir(orbitElement)\n",
    "print(attributes)"
   ]
  },
  {
   "cell_type": "code",
   "execution_count": 12,
   "metadata": {},
   "outputs": [
    {
     "name": "stdout",
     "output_type": "stream",
     "text": [
      "Help on EarthSatellite object:\n",
      "\n",
      "class EarthSatellite(Body)\n",
      " |  A satellite in orbit around the Earth, usually built by passing the text of a TLE entry to the `ephem.readtle()` routine. You can read and write its orbital parameters through the following attributes:\n",
      " |  \n",
      " |  _ap -- argument of perigee at epoch (degrees)\n",
      " |  _decay -- orbit decay rate (revolutions per day-squared)\n",
      " |  _drag -- object drag coefficient (per earth radius)\n",
      " |  _e -- eccentricity\n",
      " |  _epoch -- reference epoch (mjd)\n",
      " |  _inc -- inclination (degrees)\n",
      " |  _M -- mean anomaly (degrees from perigee at epoch)\n",
      " |  _n -- mean motion (revolutions per day)\n",
      " |  _orbit -- integer orbit number of epoch\n",
      " |  _raan -- right ascension of ascending node (degrees)\n",
      " |  \n",
      " |  Method resolution order:\n",
      " |      EarthSatellite\n",
      " |      Body\n",
      " |      builtins.object\n",
      " |  \n",
      " |  Methods defined here:\n",
      " |  \n",
      " |  __init__(self, /, *args, **kwargs)\n",
      " |      Initialize self.  See help(type(self)) for accurate signature.\n",
      " |  \n",
      " |  ----------------------------------------------------------------------\n",
      " |  Data descriptors defined here:\n",
      " |  \n",
      " |  M\n",
      " |      mean anomaly (degrees from perigee at epoch)\n",
      " |  \n",
      " |  ap\n",
      " |      argument of perigee at epoch (degrees)\n",
      " |  \n",
      " |  catalog_number\n",
      " |      catalog number from TLE file\n",
      " |  \n",
      " |  decay\n",
      " |      orbit decay rate (revolutions per day-squared)\n",
      " |  \n",
      " |  drag\n",
      " |      object drag coefficient (per earth radius)\n",
      " |  \n",
      " |  e\n",
      " |      eccentricity\n",
      " |  \n",
      " |  eclipsed\n",
      " |      whether satellite is in earth's shadow\n",
      " |  \n",
      " |  elevation\n",
      " |      height above sea level in meters\n",
      " |  \n",
      " |  epoch\n",
      " |      reference epoch (mjd)\n",
      " |  \n",
      " |  inc\n",
      " |      orbit inclination (degrees)\n",
      " |  \n",
      " |  n\n",
      " |      mean motion (revolutions per day)\n",
      " |  \n",
      " |  name\n",
      " |      object name\n",
      " |  \n",
      " |  orbit\n",
      " |      integer orbit number of epoch\n",
      " |  \n",
      " |  raan\n",
      " |      right ascension of ascending node (degrees)\n",
      " |  \n",
      " |  range\n",
      " |      distance from observer to satellite in meters\n",
      " |  \n",
      " |  range_velocity\n",
      " |      range rate of change in meters per second\n",
      " |  \n",
      " |  sublat\n",
      " |      latitude beneath satellite as a float giving radians, or a string giving degrees:minutes:seconds\n",
      " |  \n",
      " |  sublong\n",
      " |      longitude beneath satellite as a float giving radians, or a string giving degrees:minutes:seconds\n",
      " |  \n",
      " |  ----------------------------------------------------------------------\n",
      " |  Methods inherited from Body:\n",
      " |  \n",
      " |  __copy__(...)\n",
      " |      Return a new copy of this body\n",
      " |  \n",
      " |  __repr__(self, /)\n",
      " |      Return repr(self).\n",
      " |  \n",
      " |  compute(...)\n",
      " |      compute the location of the body for the given date or Observer, or for the current time if no date is supplied\n",
      " |  \n",
      " |  copy(...)\n",
      " |      Return a new copy of this body\n",
      " |  \n",
      " |  parallactic_angle(...)\n",
      " |      return the parallactic angle to the body; an Observer must have been provided to the most recent compute() call, because a parallactic angle is always measured with respect to a specfic observer\n",
      " |  \n",
      " |  writedb(...)\n",
      " |      return a string representation of the body appropriate for inclusion in an ephem database file\n",
      " |  \n",
      " |  ----------------------------------------------------------------------\n",
      " |  Static methods inherited from Body:\n",
      " |  \n",
      " |  __new__(*args, **kwargs) from builtins.type\n",
      " |      Create and return a new object.  See help(type) for accurate signature.\n",
      " |  \n",
      " |  ----------------------------------------------------------------------\n",
      " |  Data descriptors inherited from Body:\n",
      " |  \n",
      " |  a_dec\n",
      " |      astrometric geocentric declination as a float giving radians, or a string giving degrees:minutes:seconds\n",
      " |  \n",
      " |  a_epoch\n",
      " |      date giving the equinox of the body's astrometric right ascension and declination\n",
      " |  \n",
      " |  a_ra\n",
      " |      astrometric geocentric right ascension as a float giving radians, or a string giving hours:minutes:seconds\n",
      " |  \n",
      " |  alt\n",
      " |      altitude as a float giving radians, or a string giving degrees:minutes:seconds\n",
      " |  \n",
      " |  az\n",
      " |      azimuth as a float giving radians, or a string giving degrees:minutes:seconds\n",
      " |  \n",
      " |  circumpolar\n",
      " |      whether object remains above the horizon this day\n",
      " |  \n",
      " |  dec\n",
      " |      declination as a float giving radians, or a string giving degrees:minutes:seconds\n",
      " |  \n",
      " |  elong\n",
      " |      elongation as a float giving radians, or a string giving degrees:minutes:seconds\n",
      " |  \n",
      " |  g_dec\n",
      " |      apparent geocentric declination as a float giving radians, or a string giving degrees:minutes:seconds\n",
      " |  \n",
      " |  g_ra\n",
      " |      apparent geocentric right ascension as a float giving radians, or a string giving hours:minutes:seconds\n",
      " |  \n",
      " |  ha\n",
      " |      hour angle as a float giving radians, or a string giving hours:minutes:seconds\n",
      " |  \n",
      " |  mag\n",
      " |      magnitude\n",
      " |  \n",
      " |  neverup\n",
      " |      whether object never rises above the horizon this day\n",
      " |  \n",
      " |  ra\n",
      " |      right ascension as a float giving radians, or a string giving hours:minutes:seconds\n",
      " |  \n",
      " |  radius\n",
      " |      visual radius as a float giving radians, or a string giving degrees:minutes:seconds\n",
      " |  \n",
      " |  rise_az\n",
      " |      azimuth at which the body rises as a float giving radians, or a string giving degrees:minutes:seconds\n",
      " |  \n",
      " |  rise_time\n",
      " |      rise time\n",
      " |  \n",
      " |  set_az\n",
      " |      azimuth at which the body sets as a float giving radians, or a string giving degrees:minutes:seconds\n",
      " |  \n",
      " |  set_time\n",
      " |      set time\n",
      " |  \n",
      " |  size\n",
      " |      visual size in arcseconds\n",
      " |  \n",
      " |  transit_alt\n",
      " |      transit altitude as a float giving radians, or a string giving degrees:minutes:seconds\n",
      " |  \n",
      " |  transit_time\n",
      " |      transit time\n",
      "\n"
     ]
    }
   ],
   "source": [
    "# Those are the names of the attributes. Some are obvious but others are not. \n",
    "# Since the object is documented, we can also evoke help.\n",
    "# (or search for the ephem package documentation)\n",
    "\n",
    "help(orbitElement)"
   ]
  },
  {
   "cell_type": "code",
   "execution_count": 13,
   "metadata": {},
   "outputs": [],
   "source": [
    "# Compute the orbit\n",
    "orbitElement.compute(obs)\n"
   ]
  },
  {
   "cell_type": "code",
   "execution_count": 14,
   "metadata": {},
   "outputs": [
    {
     "data": {
      "text/plain": [
       "-0.7214364409446716"
      ]
     },
     "execution_count": 14,
     "metadata": {},
     "output_type": "execute_result"
    }
   ],
   "source": [
    "# Check a result. e.g. altitude\n",
    "orbitElement.alt"
   ]
  },
  {
   "cell_type": "markdown",
   "metadata": {},
   "source": [
    "### Analysis"
   ]
  },
  {
   "cell_type": "code",
   "execution_count": 15,
   "metadata": {},
   "outputs": [],
   "source": [
    "# Make some datetimes covering a whole day (24h, starting at a time of your choice)\n",
    "# This will provide the times for plotting \n",
    "\n",
    "\n",
    "# Compute satellite locations (altitude and azimuth - alt, az) at each datetime\n",
    "\n"
   ]
  },
  {
   "cell_type": "code",
   "execution_count": 16,
   "metadata": {},
   "outputs": [],
   "source": [
    "# Plot satellite tracks:\n",
    "# alt vs time\n",
    "# az vs time\n",
    "\n",
    "\n"
   ]
  },
  {
   "cell_type": "code",
   "execution_count": 17,
   "metadata": {},
   "outputs": [],
   "source": [
    "# Plot satellite track (alt and az) in polar coordinates\n"
   ]
  }
 ],
 "metadata": {
  "kernelspec": {
   "display_name": "Python 3 (ipykernel)",
   "language": "python",
   "name": "python3"
  },
  "language_info": {
   "codemirror_mode": {
    "name": "ipython",
    "version": 3
   },
   "file_extension": ".py",
   "mimetype": "text/x-python",
   "name": "python",
   "nbconvert_exporter": "python",
   "pygments_lexer": "ipython3",
   "version": "3.7.16"
  }
 },
 "nbformat": 4,
 "nbformat_minor": 4
}
